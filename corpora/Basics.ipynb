{
 "cells": [
  {
   "cell_type": "code",
   "execution_count": 7,
   "metadata": {},
   "outputs": [],
   "source": [
    "import collections\n",
    "import random\n",
    "import string"
   ]
  },
  {
   "cell_type": "code",
   "execution_count": 2,
   "metadata": {},
   "outputs": [],
   "source": [
    "with open('dracula.txt') as f:\n",
    "    drac = f.read()"
   ]
  },
  {
   "cell_type": "code",
   "execution_count": 3,
   "metadata": {},
   "outputs": [],
   "source": [
    "char_count = collections.Counter(drac.lower())"
   ]
  },
  {
   "cell_type": "code",
   "execution_count": 4,
   "metadata": {},
   "outputs": [
    {
     "data": {
      "text/plain": [
       "Counter({'\\n': 15973,\n",
       "         ' ': 157757,\n",
       "         '!': 752,\n",
       "         '\"': 2955,\n",
       "         '#': 1,\n",
       "         '$': 2,\n",
       "         '%': 1,\n",
       "         '&': 21,\n",
       "         \"'\": 1645,\n",
       "         '(': 53,\n",
       "         ')': 53,\n",
       "         '*': 683,\n",
       "         ',': 11396,\n",
       "         '-': 3923,\n",
       "         '.': 8505,\n",
       "         '/': 31,\n",
       "         '0': 64,\n",
       "         '1': 182,\n",
       "         '2': 117,\n",
       "         '3': 80,\n",
       "         '4': 57,\n",
       "         '5': 58,\n",
       "         '6': 40,\n",
       "         '7': 43,\n",
       "         '8': 45,\n",
       "         '9': 43,\n",
       "         ':': 659,\n",
       "         ';': 1684,\n",
       "         '=': 9,\n",
       "         '>': 9,\n",
       "         '?': 492,\n",
       "         '@': 2,\n",
       "         '[': 3,\n",
       "         ']': 3,\n",
       "         '_': 995,\n",
       "         'a': 53800,\n",
       "         'b': 9332,\n",
       "         'c': 14235,\n",
       "         'd': 29268,\n",
       "         'e': 81719,\n",
       "         'f': 14478,\n",
       "         'g': 13194,\n",
       "         'h': 44084,\n",
       "         'i': 44122,\n",
       "         'j': 925,\n",
       "         'k': 6380,\n",
       "         'l': 26851,\n",
       "         'm': 18257,\n",
       "         'n': 44942,\n",
       "         'o': 52023,\n",
       "         'p': 9733,\n",
       "         'q': 640,\n",
       "         'r': 36525,\n",
       "         's': 40612,\n",
       "         't': 60136,\n",
       "         'u': 18642,\n",
       "         'v': 6066,\n",
       "         'w': 18465,\n",
       "         'x': 872,\n",
       "         'y': 13150,\n",
       "         'z': 285,\n",
       "         '{': 12,\n",
       "         '}': 12,\n",
       "         '£': 3,\n",
       "         'à': 1,\n",
       "         'á': 1,\n",
       "         'â': 2,\n",
       "         'æ': 9,\n",
       "         'è': 10,\n",
       "         'é': 3,\n",
       "         'ë': 3,\n",
       "         'ï': 2,\n",
       "         'ô': 1,\n",
       "         'ö': 9,\n",
       "         '\\ufeff': 1})"
      ]
     },
     "execution_count": 4,
     "metadata": {},
     "output_type": "execute_result"
    }
   ],
   "source": [
    "char_count"
   ]
  },
  {
   "cell_type": "code",
   "execution_count": 5,
   "metadata": {},
   "outputs": [
    {
     "data": {
      "text/plain": [
       "2"
      ]
     },
     "execution_count": 5,
     "metadata": {},
     "output_type": "execute_result"
    }
   ],
   "source": [
    "ord('\\x02')"
   ]
  },
  {
   "cell_type": "code",
   "execution_count": 12,
   "metadata": {},
   "outputs": [
    {
     "data": {
      "text/plain": [
       "('15973, 157757, 752, 2955, 1645, 11396, 8505, 64, 182, 117, 80, 57, 58, 40, 43, 45, 43, 659, 1684, 492, 53800, 9332, 14235, 29268, 81719, 14478, 13194, 44084, 44122, 925, 6380, 26851, 18257, 44942, 52023, 9733, 640, 36525, 40612, 60136, 18642, 6066, 18465, 872, 13150, 285',\n",
       " '\\n !\"\\',.0123456789:;?abcdefghijklmnopqrstuvwxyz')"
      ]
     },
     "execution_count": 12,
     "metadata": {},
     "output_type": "execute_result"
    }
   ],
   "source": [
    "allowed = string.ascii_letters + string.digits + ' \\n.!?,;:\\'\"'\n",
    "\n",
    "weights = []\n",
    "chars = []\n",
    "for c, count in sorted(char_count.items()):\n",
    "    if c not in allowed:\n",
    "        continue\n",
    "    weights.append(count)\n",
    "    chars.append(c)\n",
    "    \n",
    "chars = ''.join(chars)\n",
    "    \n",
    "', '.join(str(n) for n in weights), chars"
   ]
  },
  {
   "cell_type": "code",
   "execution_count": 20,
   "metadata": {},
   "outputs": [
    {
     "data": {
      "text/plain": [
       "'tlleseer sugg e n,ai llat anfs k'"
      ]
     },
     "execution_count": 20,
     "metadata": {},
     "output_type": "execute_result"
    }
   ],
   "source": [
    "''.join(random.choices(chars, weights, k=32))"
   ]
  },
  {
   "cell_type": "code",
   "execution_count": 21,
   "metadata": {},
   "outputs": [
    {
     "data": {
      "text/plain": [
       "200"
      ]
     },
     "execution_count": 21,
     "metadata": {},
     "output_type": "execute_result"
    }
   ],
   "source": [
    "len('''SMS: fad\\n  goeha \\ntt nac ,s lhyaabcp\\\"enlo lr  oam apt  lchsye eunethtepe d,b l ,ilr vh eo omvni kh i df mh reita eiat   nmaogm at. o idiwseetmki p 2imfetd c e3hoeeth , gfni\\n slicperprsoosstwf m  ownu!''')"
   ]
  },
  {
   "cell_type": "code",
   "execution_count": 22,
   "metadata": {},
   "outputs": [],
   "source": [
    "import json"
   ]
  },
  {
   "cell_type": "code",
   "execution_count": 25,
   "metadata": {},
   "outputs": [],
   "source": []
  },
  {
   "cell_type": "code",
   "execution_count": 43,
   "metadata": {},
   "outputs": [
    {
     "data": {
      "text/plain": [
       "162"
      ]
     },
     "execution_count": 43,
     "metadata": {},
     "output_type": "execute_result"
    }
   ],
   "source": [
    "len(\"0123456789012345678901234567890123456789012345678901234567890123456789012345678901234567890123456789012345678901234567890123456789012345678901234567890123456789e\\r\")"
   ]
  },
  {
   "cell_type": "code",
   "execution_count": null,
   "metadata": {},
   "outputs": [],
   "source": []
  }
 ],
 "metadata": {
  "kernelspec": {
   "display_name": "Python 3",
   "language": "python",
   "name": "python3"
  },
  "language_info": {
   "codemirror_mode": {
    "name": "ipython",
    "version": 3
   },
   "file_extension": ".py",
   "mimetype": "text/x-python",
   "name": "python",
   "nbconvert_exporter": "python",
   "pygments_lexer": "ipython3",
   "version": "3.6.4"
  }
 },
 "nbformat": 4,
 "nbformat_minor": 2
}
