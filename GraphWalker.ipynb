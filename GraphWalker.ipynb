{
 "cells": [
  {
   "cell_type": "code",
   "execution_count": 2,
   "metadata": {},
   "outputs": [],
   "source": [
    "import itertools\n",
    "import random\n",
    "\n",
    "import networkx as nx\n",
    "\n",
    "from claptrap.dumps import load_word_digraph"
   ]
  },
  {
   "cell_type": "code",
   "execution_count": 3,
   "metadata": {},
   "outputs": [],
   "source": [
    "G = load_word_digraph('claptrap/data/dracula.claptrap.gz')"
   ]
  },
  {
   "cell_type": "code",
   "execution_count": 4,
   "metadata": {},
   "outputs": [],
   "source": [
    "def pick_random_node(G):\n",
    "    index = random.randrange(len(G))\n",
    "    for n, node in enumerate(G.nodes()):\n",
    "        if n == index:\n",
    "            return node"
   ]
  },
  {
   "cell_type": "code",
   "execution_count": 11,
   "metadata": {},
   "outputs": [],
   "source": [
    "def weighted_next(G, source):\n",
    "    if not len(G[source]):\n",
    "        return pick_random_node(G)\n",
    "    nodes, weights = zip(*((e['id'], e['weight']) for e in G[source].values()))\n",
    "    return random.choices(nodes, weights)[0]    \n",
    "\n",
    "def walk(G):\n",
    "    node = pick_random_node(G)\n",
    "    while True:\n",
    "        yield node\n",
    "        node = weighted_next(G, node)"
   ]
  },
  {
   "cell_type": "code",
   "execution_count": 26,
   "metadata": {},
   "outputs": [],
   "source": [
    "def phrase(walker, length=(60, 100)):\n",
    "    try:\n",
    "        min_len, max_len = length\n",
    "    except TypeError:\n",
    "        min_len = max_len = length\n",
    "    if min_len > max_len:\n",
    "        raise ValueError('Minimum length must be smaller than the maximum length')\n",
    "    if min_len < 1:\n",
    "        raise ValueError('Length must be positive')\n",
    "    \n",
    "    accum = ''\n",
    "    while not accum.isalpha():\n",
    "        accum = next(walker).title()\n",
    "    \n",
    "    term = False\n",
    "    while len(accum) < min_len: \n",
    "        word = next(walker)\n",
    "        if word in set('.!?;,:'):\n",
    "            accum += word\n",
    "            if word in set('.!?'):\n",
    "                term = True\n",
    "        else:\n",
    "            if term:\n",
    "                word = word.title()\n",
    "                term = False\n",
    "            accum += ' ' + word        \n",
    "        \n",
    "    accum = accum[:max_len]\n",
    "    if accum[-1] == ' ':\n",
    "        return accum[:-1] + random.choice('.!?s')\n",
    "    return accum\n",
    "    "
   ]
  },
  {
   "cell_type": "code",
   "execution_count": 47,
   "metadata": {},
   "outputs": [
    {
     "name": "stdout",
     "output_type": "stream",
     "text": [
      "Two we to find the Count's table; and nobly proportioned. So far away straight over the wolf is wrot\n",
      "Perhaps, and again, is dressing, whoever invented it, Russian from her needless; one a great day's d\n",
      "Of reaching Borgo pass just able to the hyenas in them in it in, read your brains and as an accurate\n",
      "Notes over the sash. We had lifted the tide, for in what are absolutely in the shivering touch the r\n",
      "Way in time to accept. They are big or the same things it in the time is open. Those holy. Then he w\n",
      "Set, who had I could sleep of his dialect. Then the incoming of you that they said, and drove to oth\n",
      "Whilst they whirled round the negative in Madam's telegram. They were. He has been avoided the blood\n",
      "I shall go down the blood, mad in the sexton drop upon my portmanteau, and tried not but only imagin\n",
      "Must reduce the Magyar. Patient in the way! It was a breath I drew what to suck from teeming million\n",
      "Is beginning of his hand, saying: with a look longer and so glad and as Miss Lucy, that dreadful tha\n",
      "I do not know and the strength which would be alone; so they were talking, since last we wound so wi\n",
      "I suppose a patient. We began our purposes? He kept their feet you are for supper ready, and asked,s\n",
      "To prepare for the Piccadilly side. What he was, and keep it will read there was gazing at the body?\n",
      "A funny in darkness of sleep. It brought home. I wrote it was, where she is entirely about noon. I h\n",
      "It all she had left on your heart, are even you shall be sure, as if you must we only to the little.\n",
      "Going: were positively longer and as the ring of roses in opening the coffin man was with the insane\n",
      "With me, but, with eyes have no doubt. I have stripped off; and distrustful. We shall sleep. Its ful\n",
      "In the place.. Be best right of the region that I went off the sun was a doubt such an earthy smells\n",
      "Half open mind, Van Helsing's memorandum. Must be descended a comin out in seeing the fulcrum, and c\n",
      "He have had something. After a wet my hands free to learn he loves me all swollen flesh as a rope. T\n",
      "Edge of us here the place the conversation gently, which was, and cheerful than need to moan, said,?\n",
      "A run about something in that Lucy and their lives for him. Oh, or the open door was settling down c\n",
      "In the death beauty; so that had better in the account to superstition United with the act with an g\n",
      "Into the characteristics of the handshake was so? How true., With the door flew and they would never\n",
      "Were, all seemed from our sane or get an effort it? I cannot make himself shone out and there. When?\n",
      "Took my throat. Once and could not wide world, just as this. I am. Besides one has the town was only\n",
      "Told him all ages and so true to our minds and hurriedly, I found both he won all the Profe watched!\n",
      "All! We must go on her as there are bleating of violence needs to wait. Then it up and from hers! Ho\n",
      "He Lists; but small a hideous bodies threw himself to bear messages from where Sam is still complete\n",
      "But we must not have work to note henceforth and before me? Have done, all the letters went about th\n"
     ]
    }
   ],
   "source": [
    "for _ in range(30):\n",
    "    print(phrase(walker, 100))"
   ]
  },
  {
   "cell_type": "code",
   "execution_count": 23,
   "metadata": {},
   "outputs": [
    {
     "data": {
      "text/plain": [
       "True"
      ]
     },
     "execution_count": 23,
     "metadata": {},
     "output_type": "execute_result"
    }
   ],
   "source": [
    "'The'.isalpha()"
   ]
  },
  {
   "cell_type": "code",
   "execution_count": 12,
   "metadata": {},
   "outputs": [],
   "source": [
    "walker = walk(G)"
   ]
  },
  {
   "cell_type": "code",
   "execution_count": 18,
   "metadata": {},
   "outputs": [
    {
     "data": {
      "text/plain": [
       "'mouth which was countermining them , what has not there'"
      ]
     },
     "execution_count": 18,
     "metadata": {},
     "output_type": "execute_result"
    }
   ],
   "source": [
    "' '.join(itertools.islice(walker, 10))"
   ]
  },
  {
   "cell_type": "code",
   "execution_count": null,
   "metadata": {},
   "outputs": [],
   "source": []
  }
 ],
 "metadata": {
  "kernelspec": {
   "display_name": "Python 3",
   "language": "python",
   "name": "python3"
  },
  "language_info": {
   "codemirror_mode": {
    "name": "ipython",
    "version": 3
   },
   "file_extension": ".py",
   "mimetype": "text/x-python",
   "name": "python",
   "nbconvert_exporter": "python",
   "pygments_lexer": "ipython3",
   "version": "3.6.4"
  }
 },
 "nbformat": 4,
 "nbformat_minor": 2
}
