{
 "cells": [
  {
   "cell_type": "code",
   "execution_count": 1,
   "metadata": {},
   "outputs": [],
   "source": [
    "import collections\n",
    "import contextlib\n",
    "import itertools\n",
    "import json\n",
    "import lzma\n",
    "import re\n",
    "import random\n",
    "import struct\n",
    "\n",
    "import requests"
   ]
  },
  {
   "cell_type": "code",
   "execution_count": 2,
   "metadata": {},
   "outputs": [],
   "source": [
    "ELEMENT_MATCHER = r'(\\b[a-zA-Z\\']+\\b|;|:|,|\\.|\\?|!)'  # whole words and some punctuation"
   ]
  },
  {
   "cell_type": "code",
   "execution_count": 3,
   "metadata": {},
   "outputs": [],
   "source": [
    "def gen_words(*, filename=None, text=None, harmonize_caps=True):\n",
    "    if filename:\n",
    "        with open(filename, encoding='utf-8') as f:\n",
    "            lines = [line for line in f if not line.isupper()]\n",
    "    else:\n",
    "        lines = text.splitlines()\n",
    "        \n",
    "    if harmonize_caps:\n",
    "        translator = most_common_capitalization(gen_words(filename=filename, text=text, harmonize_caps=False))\n",
    "    else:\n",
    "        translator = {}\n",
    "        \n",
    "    for line in lines:\n",
    "        line = line.replace('\\N{LEFT SINGLE QUOTATION MARK}', \"'\").replace('\\N{RIGHT SINGLE QUOTATION MARK}', \"'\")\n",
    "        for word in re.findall(ELEMENT_MATCHER, line):\n",
    "            yield translator.get(word, word)\n",
    "            \n",
    "\n",
    "def most_common_capitalization(words):\n",
    "    case_sensitive = collections.Counter(words)\n",
    "    case_insensitive = collections.defaultdict(dict)\n",
    "    for word, count in case_sensitive.items():\n",
    "        case_insensitive[word.lower()][word] = count\n",
    "        \n",
    "    translator = {}    \n",
    "    for lower, counts in case_insensitive.items():\n",
    "        if len(counts) < 2:\n",
    "            continue\n",
    "        winner = max(counts.items(), key=lambda x: x[1])[0]\n",
    "            \n",
    "        for variant in counts:\n",
    "            translator[variant] = winner\n",
    "\n",
    "    return translator\n",
    "\n",
    "\n",
    "def matgen(vocab, corpus):\n",
    "    vocab = list(vocab)\n",
    "    n_vocab = len(vocab)\n",
    "    vocab_set = set(vocab)\n",
    "    matrix = [[0] * n_vocab for _ in range(n_vocab)]\n",
    "    \n",
    "    words = (word for word in corpus if word in vocab_set)\n",
    "    \n",
    "    prev = vocab.index(next(words))\n",
    "    for word in words:\n",
    "        state = vocab.index(word)\n",
    "        matrix[prev][state] += 1\n",
    "        prev = state\n",
    "    \n",
    "    return matrix\n",
    "\n",
    "\n",
    "def mat_to_sparse(mat):\n",
    "    '''\n",
    "    Output:\n",
    "\n",
    "    {\n",
    "        row_index: [  # if row has any values\n",
    "            col_indexes,\n",
    "            col_weights,\n",
    "        ],\n",
    "        ...\n",
    "    }\n",
    "    '''\n",
    "    data = {}\n",
    "    for i, row in enumerate(mat):\n",
    "        for j, val in enumerate(row):\n",
    "            if val:\n",
    "                data.setdefault(i, [])\n",
    "                data[i].append([j, val])\n",
    "        if data[i]:\n",
    "            data[i] = list(list(x) for x in zip(*data[i]))\n",
    "    return data\n",
    "\n",
    "\n",
    "def sparse_dump(sparse_mat, words, compress=True):\n",
    "    dump = {'data': sparse_mat, 'words': words}\n",
    "    cereal = json.dumps(dump, separators=(',', ':'))\n",
    "    if compress:\n",
    "        return lzma.compress(cereal.encode('utf-8'))\n",
    "    return cereal\n",
    "\n",
    "def sparse_load(cereal):\n",
    "    if isinstance(cereal, bytes):\n",
    "        cereal = lzma.decompress(cereal)\n",
    "    dump = json.loads(cereal)\n",
    "    data = {int(k): v for k, v in dump['data'].items()}\n",
    "    words = dump['words']\n",
    "    return data, words\n",
    "\n",
    "\n",
    "mat = [[1, 0, 2], [0, 3, 100], [10, 4, 5]]\n",
    "smat = mat_to_sparse(mat)\n",
    "words = ['a', 'b', 'c']\n",
    "assert sparse_load(sparse_dump(smat, words)) == (smat, words)\n",
    "assert sparse_load(sparse_dump(smat, words, compress=False)) == (smat, words)"
   ]
  },
  {
   "cell_type": "code",
   "execution_count": 4,
   "metadata": {},
   "outputs": [],
   "source": [
    "def word_gen(words, smat):\n",
    "    try:\n",
    "        state = words.index('.')\n",
    "    except ValueError:\n",
    "        state = random.randrange(len(smat))\n",
    "    while True:\n",
    "        try:\n",
    "            indexes, weights = smat[state]\n",
    "            state = indexes[random.choices(list(range(len(indexes))), weights=weights)[0]]\n",
    "        except IndexError:  # dead-end states\n",
    "            state = random.randrange(len(smat))\n",
    "        yield words[state]\n",
    "\n",
    "\n",
    "PUNCTUATION = set(',.;:?!')\n",
    "TERMINAL_PUNCT = set('.?!')\n",
    "\n",
    "\n",
    "def title(word):\n",
    "    '''Because \"it's\".title() == \"It'S\"'''\n",
    "    return word[0].upper() + word[1:]\n",
    "\n",
    "\n",
    "def phrase(word_gen, length=100):\n",
    "    '''Generate some random \"words\" with some specified total char length'''\n",
    "    try:\n",
    "        min_length, max_length = length\n",
    "    except TypeError:\n",
    "        min_length = max_length = length\n",
    "\n",
    "    rule = title(next(w for w in word_gen if w.isalpha()))\n",
    "    for word in word_gen:\n",
    "        if word in PUNCTUATION:\n",
    "            if rule[-1] in PUNCTUATION:\n",
    "                continue\n",
    "            rule += word\n",
    "        elif rule[-1] in TERMINAL_PUNCT:\n",
    "            rule += ' ' + title(word)\n",
    "        else:\n",
    "            rule += ' ' + word\n",
    "        if len(rule) >= min_length:\n",
    "            break\n",
    "    rule = rule[:max_length]\n",
    "    if rule[-1] == ' ':\n",
    "        if rule[-2] in PUNCTUATION:\n",
    "            return rule[:-2] + 's' + random.choice(list(TERMINAL_PUNCT))\n",
    "        return rule[:-1] + 's'\n",
    "    if rule[-1] in PUNCTUATION:\n",
    "        return rule[:-1] + random.choice(list(TERMINAL_PUNCT))\n",
    "    return rule\n",
    "\n",
    "\n",
    "IGNORE = {'ii', 'iii', 'iv', 'v', 'vi', 'vii', 'viii', 'ix', 'x', 'xi', 'xii', 'chapter', 'gutenberg'}\n",
    "\n",
    "\n",
    "class PhraseGenerator:\n",
    "    @classmethod\n",
    "    def from_corpus(cls, corpus, threshold=1000):\n",
    "        counter = collections.Counter(corpus)\n",
    "        words = [\n",
    "            word \n",
    "            for word, count \n",
    "            in counter.most_common(threshold)\n",
    "            if word.lower() not in IGNORE\n",
    "        ]\n",
    "        sparse = mat_to_sparse(matgen(words, corpus))\n",
    "        return cls(words, sparse)\n",
    "        \n",
    "    @staticmethod\n",
    "    def _load_file(path):\n",
    "        with open(path, 'rb') as f:\n",
    "            if f.read(5) == b'\\xfd7zXZ':\n",
    "                f.seek(0)\n",
    "                return f.read()\n",
    "        with open(path, 'r') as f:\n",
    "            return f.read()\n",
    "        \n",
    "    @classmethod\n",
    "    def from_dump(cls, *, file=None, data=None):\n",
    "        if file is not None:\n",
    "            if isinstance(file, str):\n",
    "                data = cls._load_file(file)\n",
    "            else:\n",
    "                data = file.read()\n",
    "\n",
    "        sparse, words = sparse_load(data)\n",
    "        return cls(words, sparse)\n",
    "    \n",
    "    def __init__(self, words, matrix):\n",
    "        self.words = words\n",
    "        self.matrix = matrix\n",
    "        self.gen = word_gen(words, matrix)\n",
    "        \n",
    "    def phrase(self, length=[100, 120]):\n",
    "        return phrase(self.gen, length)\n",
    "    \n",
    "    def to_file(self, path):\n",
    "        with open(path, 'wb') as f:\n",
    "            f.write(sparse_dump(self.matrix, self.words))"
   ]
  },
  {
   "cell_type": "code",
   "execution_count": 5,
   "metadata": {},
   "outputs": [],
   "source": [
    "start_marker = '*** START OF THIS PROJECT GUTENBERG EBOOK DRACULA ***'\n",
    "end_marker = '*** END OF THIS PROJECT GUTENBERG EBOOK DRACULA ***'"
   ]
  },
  {
   "cell_type": "code",
   "execution_count": 6,
   "metadata": {},
   "outputs": [],
   "source": [
    "dracula = requests.get('http://www.gutenberg.org/cache/epub/345/pg345.txt').text\n",
    "dracula = dracula[dracula.find(start_marker) + len(start_marker):dracula.find(end_marker)]\n",
    "drac_corpus = list(gen_words(text=dracula))\n",
    "drac_counter = collections.Counter(drac_corpus)"
   ]
  },
  {
   "cell_type": "code",
   "execution_count": 7,
   "metadata": {},
   "outputs": [
    {
     "data": {
      "text/plain": [
       "(66145, 140532)"
      ]
     },
     "execution_count": 7,
     "metadata": {},
     "output_type": "execute_result"
    }
   ],
   "source": [
    "ignore = {'ii', 'iii', 'iv', 'v', 'vi', 'vii', 'viii', 'ix', 'x', 'xi', 'xii'}\n",
    "\n",
    "drac_threshold = 9000\n",
    "drac_words = [word for word, count in drac_counter.most_common(drac_threshold) if word.lower() not in ignore]\n",
    "        \n",
    "drac_sparse = mat_to_sparse(matgen(drac_words, drac_corpus))\n",
    "\n",
    "drac_elements = sum(len(row[0]) for row in drac_sparse.values())\n",
    "drac_dump = sparse_dump(drac_sparse, drac_words)\n",
    "\n",
    "drac_elements, len(drac_dump)"
   ]
  },
  {
   "cell_type": "code",
   "execution_count": 8,
   "metadata": {},
   "outputs": [],
   "source": [
    "drac_gen = word_gen(drac_words, drac_sparse)"
   ]
  },
  {
   "cell_type": "code",
   "execution_count": 9,
   "metadata": {},
   "outputs": [
    {
     "name": "stdout",
     "output_type": "stream",
     "text": [
      "I pity any case, Dr. When in the falling water all things to Jamrach's, and laying the coffin man wh\n",
      "Is to the criminal who would enter. When I, which was still the bed lay no wrong turnings found that\n",
      "Nothing with some clue to know how blessed hand: Count Dracula made up quietly as they pass throughs\n",
      "English books, he shook hands. He said. Kept watch last night open the feelings of it come to by one\n",
      "And how poor Mrs. He stepped into a case anything. Shall I know by the first watch over the lamp lit\n",
      "Up the snow clouds, I thought of the combination. I looked, but you at once into one of her sleeping\n",
      "When I drive a hideous, by the heart. See her boudoir, he has. We become of himself up the subject s\n",
      "To be spared, great God help; and suck my boots, friend John will it, and we are still breathing con\n",
      "Indeed been was also, after a novice lumbering through the face with the room at hand on the owl, Is\n",
      "You who for the plans, snod an instant Van Helsing, Mrs. The green, was an odd expression became ver\n",
      "Faithful. I thought never refer to look overspread his shoulders, Yes! Oh, and Thank God there had d\n",
      "So that it is keeping my pretty wreath, and hung my supper, losing time to do remain alone with my c\n",
      "Him at Kingstead. CHAPTER XXIII Dr. Van Helsing hypnotised me in growing weaker nature that her, and\n",
      "You well. But, of the oil lamp in the board. I could by Jonathan does and learn the dogs, how goes o\n",
      "The Count must be comfort it at the other things, fastening the living thing to accept. The flame; a\n",
      "Deeper the young puma which are encamped in the church, with a good, and Quincey the back, coming in\n",
      "The heavy old Mr. Strangely enough. Later. In some kind of the symptoms the ring so forgetful. We ha\n",
      "A look out around us all nature. It rattled in a man to get at the Count returned you to attic, by a\n",
      "Single line too, as fair woman who took her mother, and I was, overtook us and if it. He experienced\n",
      "Tells, and they meant to gain is finished, where the grass, by him on by the last letter from wheres\n",
      "Part of a peculiar effect his fingers and with a day, for his wife had rushed into the notice my eye\n",
      "Off soon have three graves stretches out lurid, my knowledge detect a chaffin of other idle curiosit\n",
      "She has been beyond, and not ever before he looked whilst she wore might have tell you hear the floo\n",
      "And forced themselves. When after a presage of our happiness. I am Mrs. We have a Superior to the wi\n",
      "He has not be alone. As little, who had been with his hands; and Ste. Whilst she nodded. He leave th\n",
      "Horses and fresh again. But they pass. But a little silver through them in the: lapping waves were w\n",
      "The air was useless to my door open hands than other, and lovingly stroked the past; but I got up th\n",
      "Enclosure behind us I could hide my dinner, and arranged. We have half shrouded in the door. We must\n",
      "Be egotist, owing to see, as he wanted her appetite like he insisted on land, and the wide world ove\n",
      "The height of result in some time tables, what my reasons would surely be drunk of brandy and Van He\n",
      "He is made my trouble? Can see he is a moment as his father's which was a hideous bodies could onlys\n",
      "Is life, I should be seen death, how terribly weak to her daughter the morning. Mr. Before. My inter\n",
      "In the doubting; he hobbled. We can tell you have this moment of us also gave Renfield attacked thes\n",
      "Estate was very funny to be touched seemed to day soon to bed or die if she did not leave for it. Is\n",
      "Have killed, as pleasing as I was undoubtedly some settled that it ain't good you, its work together\n",
      "And of attack. Harker. My look serious; and feeling of the work as of noon and stamped it; so, but I\n",
      "Am to us looked round hats, made trips in the sheep in the garden, or with a medium of his telegrams\n",
      "When the earth work was a short! Of Jonathan, though a purpose of that any one or small boy on my su\n",
      "Having answered for her frightful relapses; so as they caught the harbour in view seems to me. As su\n",
      "Turning to its own well? If you with officials that I knew with a dirty water in fright. It struck a\n",
      "Little I could go on my faculties and when I am tired and she drew the paper which malady that the g\n",
      "Washed away, and sweated as finality. One of observing him go to put down again collating his gorges\n",
      "The river with alacrity my arms. But I can talk about broaching the beginning to be and you got mind\n",
      "The drift, joy, the right. The brandy again to em; but now in the midst of sacred that the rest. Ins\n",
      "Had risen, as if the Herr's luggage; and then when we shall fasten to upset at me of even you and an\n",
      "For it and in the different themes; not alive, good bye, hastening on the brute from any unhappy res\n",
      "Both your letters are to the scar. Then the ridges wide as to the dead, a smile, Dr. Good bye. The b\n",
      "Acrid smell into detail that that he dared not even a dread Jonathan Harker, so rare, said cheerfull\n",
      "And finding ourselves to me know in some who were to it and stained with all is from us, a sprawling\n",
      "On the helpless; you to her, if a moral Viking. Therefore breakable or wynds, I can it. Our part ofs\n"
     ]
    }
   ],
   "source": [
    "for _ in range(50):\n",
    "    print(phrase(drac_gen, [100, 100]))"
   ]
  },
  {
   "cell_type": "code",
   "execution_count": 10,
   "metadata": {},
   "outputs": [],
   "source": [
    "pg = PhraseGenerator.from_corpus(drac_corpus, 9001)"
   ]
  },
  {
   "cell_type": "code",
   "execution_count": 11,
   "metadata": {},
   "outputs": [
    {
     "data": {
      "text/plain": [
       "'Dr. Then I went to come over: Saxons in the blood for any other. Tell you will need all man as yet know'"
      ]
     },
     "execution_count": 11,
     "metadata": {},
     "output_type": "execute_result"
    }
   ],
   "source": [
    "pg.phrase()"
   ]
  },
  {
   "cell_type": "code",
   "execution_count": 12,
   "metadata": {},
   "outputs": [],
   "source": [
    "pg.to_file('markov-dracula.xz')"
   ]
  },
  {
   "cell_type": "code",
   "execution_count": 13,
   "metadata": {},
   "outputs": [],
   "source": [
    "pg2 = PhraseGenerator.from_dump(file='markov-dracula.xz')"
   ]
  },
  {
   "cell_type": "code",
   "execution_count": 14,
   "metadata": {},
   "outputs": [
    {
     "name": "stdout",
     "output_type": "stream",
     "text": [
      "More than I was a dozen if I do when I expected. Strangely, I tell you will cut yourself and no fear\n",
      "They think them yourself? I shall go no more unpunctual are all seems to write this was trying to do\n",
      "We are not speak: two other here when the Carpathians themselves. See the top I could see around the\n",
      "Best to his ends meet him to try to note book, but there came last night from the man was evidently meant\n",
      "And you at once got to himself, as well, vague, when Van Helsing had better, there must be June, they\n",
      "Come to her going to be here. As, though the husbandman tell him? Here, and slippers: Ah, leaving the\n",
      "Same imperious gesture, and write. If it, and altogether the hetman of jagged rock he pointed to the\n",
      "Thought never did me down with lofty steeps of making so I at no hesitation, perhaps I was surprised\n",
      "Me, for I shall ever. My mouth full of horror which my prolonging my spell could penetrate. For we sat\n",
      "Awhile, they are dangers to follow, is well, saw a circular stairway which he had on foul thing on the\n"
     ]
    }
   ],
   "source": [
    "for _ in range(10):\n",
    "    print(pg2.phrase())"
   ]
  },
  {
   "cell_type": "code",
   "execution_count": 15,
   "metadata": {},
   "outputs": [],
   "source": [
    "hockey = PhraseGenerator.from_dump(file='markov-hockey.xz')"
   ]
  },
  {
   "cell_type": "code",
   "execution_count": 16,
   "metadata": {},
   "outputs": [
    {
     "name": "stdout",
     "output_type": "stream",
     "text": [
      "When a approximately one inch line, or piece of goal scored. This section is pushed, shall be advised\n",
      "By either Coach of the ice from the following list of the top of regulation time in a substitute player\n",
      "Attempted to the severity of the goalkeeper, the penalized player becomes involved in his opponent. When\n",
      "Players on the course of their places on the event that he must stand on the replays If this Rule shall\n",
      "Give the goalposts, shall extend more than seventy two teams to each Club Executive, for the puck is\n",
      "Essential. A player who shall be treated as a ten thousand dollars, but the penalized promptly, this\n",
      "Rule too many men enter the neutral or impacting the ice surface, major penalty shall not exceed three\n",
      "Major penalty to be renewed promptly When goals subject to the Referee which they have previously assessed\n",
      "For unsportsmanlike conduct plus a match penalty shall be taken without change procedure may attempt\n",
      "When an on the regular League approved stopwatch. A face off spot in the opinion of any desired substitution\n"
     ]
    }
   ],
   "source": [
    "for _ in range(10):\n",
    "    print(hockey.phrase())"
   ]
  },
  {
   "cell_type": "code",
   "execution_count": 17,
   "metadata": {},
   "outputs": [],
   "source": [
    "grrm = PhraseGenerator.from_dump(file='../markov-gameofthrones.xz')"
   ]
  },
  {
   "cell_type": "code",
   "execution_count": 18,
   "metadata": {},
   "outputs": [
    {
     "name": "stdout",
     "output_type": "stream",
     "text": [
      "Lannister was nothing to Rhaego? He'd listen. Now. Ned reached the party had seen Maester. The end of\n",
      "That came at her brother will not irksome enough to follow only wants all. The Maester Luwin laughed\n",
      "Since the others I fear him sick of the ridge, but to keep her eyes to the queen's funny. A giant who\n",
      "Do you really known what if he was a warrior, the fat yellow beard. Jory would have Robert at the Blackfish\n",
      "The fear? Asked when the master of gold from Port opened the black had to see that wolf fell, where the\n",
      "Sound was no one of it, until the queen, Pyp had visited with hops or so far above him, and freeriders\n",
      "And began to Robert set off. Catelyn Stark had served king husked, waiting for Harrenhal at the direwolf\n",
      "Quiet she lifted it off with Porther called me a bad would. Today, and whispered, then. The sunset on\n",
      "Every step! Tyrion said. Who cannot die. Hope they were seldom one leg. He spit it was flushed from the\n",
      "King before the poor men and pulled it had a place of them, come until even if not the other side, of\n",
      "Sandor Clegane lingered. The chamber to see to give Ghost waters of a third when the king holds. Give\n",
      "Him. Talk is known their fealty or died, the beast wrenched free to the queen. For your Grace. Jon. All\n",
      "In: Eastwatch only know what are alike. Inside her smile. A hood of the Septa Mordane was stamped in\n",
      "The master at him gasp, sweetened with all. It please him, drawing out of himself to Vaes Dothrak sprawled\n",
      "Out, it would not dead. Bran could not often made him harm. Joffrey said. No doubt, with mounting disbelief\n",
      "They have you said in ones who might make certain about heroes and join in after all happened? He drew\n",
      "Up her after her consent. Sansa could not ask you a barbed spikes, you'll have lied. Before him in a\n",
      "Sword is it around them. Are quite another Lamb baked bread and a long, Sansa wailed an enemy was climb\n",
      "Up the sellsword's face when Theon Greyjoy said, and now that is a featherbed. Boy. The two matching\n",
      "Tiara. It had no, he calls him safe at his, please him. Maester Luwin on his bandaged fingers brushed\n"
     ]
    }
   ],
   "source": [
    "for _ in range(20):\n",
    "    print(grrm.phrase())"
   ]
  },
  {
   "cell_type": "code",
   "execution_count": 19,
   "metadata": {},
   "outputs": [],
   "source": [
    "jsac = PhraseGenerator.from_dump(file='../markov-jsac.xz')"
   ]
  },
  {
   "cell_type": "code",
   "execution_count": 20,
   "metadata": {},
   "outputs": [
    {
     "name": "stdout",
     "output_type": "stream",
     "text": [
      "Alex, but the air in search on the sunrise. He didn't his helmet that even if she lost all Naomi? Roger\n",
      "That far flung off just need us some of coffee, flat gray plastic desk, the worst case. All through her\n",
      "Left spinning it in the usual. Good one that was by the Belter on new team, and Miller said into his\n",
      "Heartbeat for the ships had a stupid. He said once we investigated them to be alone. Still here once\n",
      "Going to her face was time. He used to wait twenty people drew his skull into the screams again, she\n",
      "Said. Something she'd given their own sacred. Or something happens? Holden pulled up, and He's shown\n",
      "About having the ground at all along with them seem like a chance. It left enough not handing that Holden\n",
      "Felt so messed up to the sausage and not stopping him on the perp had to open, you. And twice, keeping\n",
      "Her face flushed red hair. All trades authorized the bone spurs. But at an hour out the rooms and zoomed\n",
      "In exile, Holden looked like, I know? Eight days, Earth with a landscape also maneuvering, then ignored\n",
      "Him think of shipping costs more information to recognize. Aware of light flashing on her, but the woman\n",
      "Only a shared ablative evacuation. Something was you, I hear if she had grown up. You're a moment came\n",
      "On how much champagne glass. The people, Anna said, or patience Bull. That for carrying for the crew\n",
      "To ask who was the nightmare left her head and. It's simple question people. It appeared, and covered\n",
      "Foam. And Earth, putting together, lightly on her old cold. She's on the right. A pulpit, and the muscles\n",
      "The surface of the hole for the familiar that damned marriage to know. Doors wide, Pampaw, so it was\n",
      "Moving. The ship, meeting of it appears that the array. Which way into death when the Coalition governor\n",
      "Is James Holden stared at her and headed to the smiling and looking men, and Protogen had spoken directly\n",
      "To kill her hand. He was having? Muss said, and red, they could say another heavy weapons, but be right\n",
      "Place. By chance to Alex's brain looking for an urge to find Julie's hand terminal chimed. It will find\n"
     ]
    }
   ],
   "source": [
    "for _ in range(20):\n",
    "    print(jsac.phrase())"
   ]
  },
  {
   "cell_type": "code",
   "execution_count": 21,
   "metadata": {},
   "outputs": [],
   "source": [
    "spacewesteros = PhraseGenerator.from_dump(file='../markov-spacewesteros.xz')"
   ]
  },
  {
   "cell_type": "code",
   "execution_count": 22,
   "metadata": {},
   "outputs": [
    {
     "name": "stdout",
     "output_type": "stream",
     "text": [
      "Melba got up, he want me. This part of most heartfelt and Chiggen beside the time. And the roofs. I vow\n",
      "The best couch with me doing a pace. She shipped him. He wanted him and took seriously questioned by\n",
      "The stillness was the center of it in the drum until he wanted and she'd been brought his own head? She\n",
      "Still water that it will be dangerous just remember that kind of her belt, thrust gravity well past Holden\n",
      "Continued working together atop the Kingsguard and I keep a piece of those thousands of friends, his\n",
      "Carrot, until you stole a half that killed anyone from radio for half the lad does that makes, the scabbard\n",
      "And shrugged and I told Mormont said. Surely there'd been flying through sheer from limb? Gambling's\n",
      "Legal drugs was back, his sentence should have to love between the ground, and our ship with this office\n",
      "Smelled like snakes, and lifted the computer and then visibly relaxed, glowering at the sun. Any harder\n",
      "Than we need be there are worse, you're Seriously, that straight atop the Donnager has consequences!\n",
      "Going to look better off the security man who had my name, who used them all the letters to her by the\n",
      "Hands. You, and yours. Once around it was doing and feed changed, like polished copper filled with a\n",
      "Half a way under an. Love this is here, all. He'd half an icy mountain that she took it was just been\n",
      "Since they never seen his toe. It out a hit a small boy again. Cooked the western shoulder, looking deep\n",
      "In her hair. Ned thought of Lannister. Give my son had no, and west, whether the crew cabins, consistent\n",
      "The screens for the two swords in his shoulders and so, she had been a moment drew his side last gun\n",
      "A dozen seconds before the spectators, said. He? No mood for your crew were not. Well to the creaks and\n",
      "Structures. What had been saying nothing Catelyn admitted. Yet somehow he could take it against his plate\n",
      "And the last of the engine room with the womanly arts of the septa's receding from limb, and what I think\n",
      "Your dress, and Miller replied. He suspected the idea of impact of their horses, sure why is a seat deftly\n"
     ]
    }
   ],
   "source": [
    "for _ in range(20):\n",
    "    print(spacewesteros.phrase())"
   ]
  },
  {
   "cell_type": "code",
   "execution_count": 23,
   "metadata": {},
   "outputs": [
    {
     "name": "stdout",
     "output_type": "stream",
     "text": [
      "He would have those things he couldn't hear the newsfeeds. We may be drinking cheap, as they came from Littlefinger's fable. We might be happy. Scarcely a short and sluiced cold black and rest of Miller, there was curt. You. You supposed to move. And nostrils; he was harder. Maybe he said, we missing, cutting the snows come apart with a life had always did not that couldn't quite the newsfeeds about and talked of them off the pagaentry of the casino level of Eros is. Did he talked to catch up Holden counted; somewhere the door controls. He was why come after row. You say that Tyrell, she was grievous sad smile. Jon told him know enough to be interesting happening here. When I feel, probably bored, Naomi said. I am no one hand terminals. Sir, Holden had, she had lived on the silence. I mistrust him. And you kill. Anna, but the king Loren had always took a wave. Just on the civilian dress. Clarissa could I said. His eyes could see you wish, and that should I would be pissed at the door. Captain? That Lionel doesn't live there will order, Monica by what he'd realized what is on the victory. The OPA man and Ashford. Hook me, not seem more shallow. Did not thinking about those ships most of time I was no change Holden's second most of red. The ship, there'd been, Holden said, Meraxes was plump sweaty hands closing echoed in. He said. Joff, and porkpie and mismatched armor was. Something that She's a lot of ideas as Longclaw is all of work. Want to ride. Not the stump. He drew a corridor for the muscle, and Darcon remained of pain from the vow, the woods below. The doorway. That filled with you. She was in the self destruct from behind. Only one by hard not believe in the thought; Lord Tywin replied, Bull Thirty four now! We're gonna hit. Holden's four years, Anna said at last, the late to climb inside, he could get to hear the armory. It follows. He muttered. He asked. I need you know whether he said once and if you son of the heavy with both through a pretty much. A boy\n"
     ]
    }
   ],
   "source": [
    "print(spacewesteros.phrase(2000))"
   ]
  },
  {
   "cell_type": "code",
   "execution_count": null,
   "metadata": {},
   "outputs": [],
   "source": []
  }
 ],
 "metadata": {
  "kernelspec": {
   "display_name": "Python 3",
   "language": "python",
   "name": "python3"
  },
  "language_info": {
   "codemirror_mode": {
    "name": "ipython",
    "version": 3
   },
   "file_extension": ".py",
   "mimetype": "text/x-python",
   "name": "python",
   "nbconvert_exporter": "python",
   "pygments_lexer": "ipython3",
   "version": "3.6.4"
  },
  "spitball": {
   "api_url": "",
   "desc": "",
   "id": "",
   "vis": ""
  }
 },
 "nbformat": 4,
 "nbformat_minor": 2
}
